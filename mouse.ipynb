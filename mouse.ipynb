{
 "cells": [
  {
   "cell_type": "code",
   "execution_count": null,
   "id": "980bf30e-2869-4a00-8d37-d65c0d9bfd21",
   "metadata": {},
   "outputs": [],
   "source": [
    "import time\n",
    "import pyautogui\n",
    "\n",
    "while True:\n",
    "    pyautogui.move(1,1)\n",
    "    time.sleep(50)\n",
    "    pyautogui.leftClick()"
   ]
  },
  {
   "cell_type": "code",
   "execution_count": null,
   "id": "077a8803-04d4-4240-9b54-c351dd7e78c8",
   "metadata": {},
   "outputs": [],
   "source": []
  }
 ],
 "metadata": {
  "kernelspec": {
   "display_name": "Python 3 (ipykernel)",
   "language": "python",
   "name": "python3"
  },
  "language_info": {
   "codemirror_mode": {
    "name": "ipython",
    "version": 3
   },
   "file_extension": ".py",
   "mimetype": "text/x-python",
   "name": "python",
   "nbconvert_exporter": "python",
   "pygments_lexer": "ipython3",
   "version": "3.10.14"
  }
 },
 "nbformat": 4,
 "nbformat_minor": 5
}
